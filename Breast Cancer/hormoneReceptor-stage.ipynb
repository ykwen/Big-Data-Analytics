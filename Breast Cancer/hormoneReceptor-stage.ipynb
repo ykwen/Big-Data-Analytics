{
 "cells": [
  {
   "cell_type": "code",
   "execution_count": 1,
   "metadata": {},
   "outputs": [],
   "source": [
    "import pandas as pd\n",
    "from sklearn.cluster import KMeans\n",
    "from sklearn import metrics\n",
    "from sklearn import svm\n",
    "import re\n",
    "from sklearn.preprocessing import Imputer\n",
    "from sklearn import model_selection\n",
    "from numpy import random\n",
    "import numpy as np\n",
    "import seaborn as sb\n",
    "import matplotlib.pyplot as plt \n",
    "import pickle\n",
    "### Set path to the data set\n",
    "dataset_path = \"/home/ubuntu/Desktop/datapredict/77_cancer_proteomes_CPTAC_itraq.csv\"\n",
    "clinical_info = \"/home/ubuntu/Desktop/datapredict/clinical_data_breast_cancer.csv\"\n",
    "pam50_proteins = \"/home/ubuntu/Desktop/datapredict/PAM50_proteins.csv\"\n",
    "\n",
    "## Load data\n",
    "data = pd.read_csv(dataset_path,header=0,index_col=0)\n",
    "clinical = pd.read_csv(clinical_info,header=0,index_col=0)## holds clinical information about each patient/sample\n",
    "pam50 = pd.read_csv(pam50_proteins,header=0)\n",
    "\n",
    "## Drop unused information columns\n",
    "data.drop(['gene_symbol','gene_name'],axis=1,inplace=True)\n",
    "\n",
    "## Change the protein data sample names to a format matching the clinical data set\n",
    "data.rename(columns=lambda x: \"TCGA-%s\" % (re.split('[_|-|.]',x)[0]) if bool(re.search(\"TCGA\",x)) is True else x,inplace=True)\n",
    "\n",
    "## Transpose data for the clustering algorithm since we want to divide patient samples, not proteins\n",
    "data = data.transpose()\n",
    "\n",
    "data_p50 = data.loc[:,data.columns.isin(pam50['RefSeqProteinID'])]\n",
    "## Drop clinical entries for samples not in our protein data set\n",
    "clinical = clinical.loc[[x for x in clinical.index.tolist() if x in data_p50.index],:]\n",
    "\n",
    "## Add clinical meta data to our protein data set, note: all numerical features for analysis start with NP_ or XP_\n",
    "merged = data.merge(clinical,left_index=True,right_index=True)"
   ]
  },
  {
   "cell_type": "markdown",
   "metadata": {},
   "source": [
    "Prediction 1"
   ]
  },
  {
   "cell_type": "code",
   "execution_count": 3,
   "metadata": {},
   "outputs": [],
   "source": [
    "x_train1 = merged.loc[:,[x for x in merged.columns if bool(re.search(\"Tumor|Status\",x)) == True]]\n",
    "y_train1 = merged.loc[:,[x for x in merged.columns if bool(re.search(\"Vital Status\",x)) == True]]\n",
    "x_train1.drop(['Tumor--T1 Coded','Vital Status'],axis=1,inplace=True)\n",
    "x_train1 = x_train1.replace({'Negative' : 0,'Positive' : 1,'Equivocal':'NaN','T1' : 1, 'T2' : 2, 'T3' : 3, 'T4' : 4})\n",
    "y_train1 = y_train1.replace({'DECEASED':0,'LIVING':1})\n",
    "\n",
    "imputer = Imputer(missing_values='NaN', strategy='median', axis=1)\n",
    "imputer = imputer.fit(x_train1)\n",
    "x_train1 = imputer.transform(x_train1)\n",
    "y_train1 = imputer.transform(y_train1)\n",
    "y_train1 = y_train1.astype(int)"
   ]
  },
  {
   "cell_type": "code",
   "execution_count": 119,
   "metadata": {},
   "outputs": [],
   "source": [
    "test_size = 0.9\n",
    "seed = 1\n",
    "X_train1, X_test1, Y_train1, Y_test1 = model_selection.train_test_split(x_train1, y_train1, test_size=test_size, random_state=seed)"
   ]
  },
  {
   "cell_type": "code",
   "execution_count": 120,
   "metadata": {},
   "outputs": [
    {
     "name": "stdout",
     "output_type": "stream",
     "text": [
      "result 1 is: 0.916666666667\n"
     ]
    }
   ],
   "source": [
    "model1 = svm.SVC(kernel='linear')\n",
    "model1.fit(X_train1, np.ravel(Y_train1))\n",
    "result1 = model1.score(X_test1, Y_test1)\n",
    "print 'result 1 is:', result1"
   ]
  },
  {
   "cell_type": "code",
   "execution_count": 109,
   "metadata": {},
   "outputs": [
    {
     "name": "stdout",
     "output_type": "stream",
     "text": [
      "result 2 is: 0.925\n"
     ]
    }
   ],
   "source": [
    "model2 = svm.SVC(kernel='poly')\n",
    "model2.fit(X_train1, np.ravel(Y_train1))\n",
    "result2 = model2.score(X_test1, Y_test1)\n",
    "print 'result 2 is:', result2"
   ]
  },
  {
   "cell_type": "code",
   "execution_count": 110,
   "metadata": {},
   "outputs": [
    {
     "name": "stdout",
     "output_type": "stream",
     "text": [
      "result 3 is: 0.925\n"
     ]
    }
   ],
   "source": [
    "model3 = svm.SVC(kernel='sigmoid')\n",
    "model3.fit(X_train1, np.ravel(Y_train1))\n",
    "result3 = model3.score(X_test1, Y_test1)\n",
    "print 'result 3 is:', result3"
   ]
  },
  {
   "cell_type": "code",
   "execution_count": 111,
   "metadata": {},
   "outputs": [
    {
     "name": "stdout",
     "output_type": "stream",
     "text": [
      "result 4 is: 0.925\n"
     ]
    }
   ],
   "source": [
    "model4 = svm.SVC()\n",
    "model4.fit(X_train1, np.ravel(Y_train1))\n",
    "result4 = model4.score(X_test1, Y_test1)\n",
    "print 'result 4 is:', result4"
   ]
  },
  {
   "cell_type": "code",
   "execution_count": 112,
   "metadata": {
    "scrolled": true
   },
   "outputs": [
    {
     "data": {
      "text/plain": [
       "0.34999999999999998"
      ]
     },
     "execution_count": 112,
     "metadata": {},
     "output_type": "execute_result"
    }
   ],
   "source": [
    "from sklearn.naive_bayes import GaussianNB\n",
    "clf = GaussianNB()\n",
    "clf.fit(X_train1, Y_train1)\n",
    "clf.score(X_test1, Y_test1)"
   ]
  },
  {
   "cell_type": "code",
   "execution_count": 113,
   "metadata": {},
   "outputs": [
    {
     "name": "stderr",
     "output_type": "stream",
     "text": [
      "/usr/local/lib/python2.7/dist-packages/ipykernel_launcher.py:3: DataConversionWarning: A column-vector y was passed when a 1d array was expected. Please change the shape of y to (n_samples, ), for example using ravel().\n",
      "  This is separate from the ipykernel package so we can avoid doing imports until\n"
     ]
    },
    {
     "data": {
      "text/plain": [
       "0.92500000000000004"
      ]
     },
     "execution_count": 113,
     "metadata": {},
     "output_type": "execute_result"
    }
   ],
   "source": [
    "from sklearn.neighbors import KNeighborsClassifier \n",
    "knn = KNeighborsClassifier() \n",
    "knn.fit(X_train1, Y_train1)\n",
    "knn.score(X_test1, Y_test1)"
   ]
  },
  {
   "cell_type": "code",
   "execution_count": 114,
   "metadata": {},
   "outputs": [
    {
     "data": {
      "text/plain": [
       "0.875"
      ]
     },
     "execution_count": 114,
     "metadata": {},
     "output_type": "execute_result"
    }
   ],
   "source": [
    "from sklearn import tree\n",
    "model1 = tree.DecisionTreeClassifier()\n",
    "model1.fit(X_train1, Y_train1)\n",
    "model1.score(X_test1, Y_test1)"
   ]
  },
  {
   "cell_type": "code",
   "execution_count": null,
   "metadata": {},
   "outputs": [],
   "source": []
  }
 ],
 "metadata": {
  "kernelspec": {
   "display_name": "Python 2",
   "language": "python",
   "name": "python2"
  },
  "language_info": {
   "codemirror_mode": {
    "name": "ipython",
    "version": 2
   },
   "file_extension": ".py",
   "mimetype": "text/x-python",
   "name": "python",
   "nbconvert_exporter": "python",
   "pygments_lexer": "ipython2",
   "version": "2.7.12"
  }
 },
 "nbformat": 4,
 "nbformat_minor": 2
}
